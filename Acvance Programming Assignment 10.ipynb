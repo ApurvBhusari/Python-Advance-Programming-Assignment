{
 "cells": [
  {
   "cell_type": "code",
   "execution_count": null,
   "id": "a05f15ea",
   "metadata": {},
   "outputs": [],
   "source": [
    "#1. Write a Python program to find sum of elements in list?\n",
    "n=int(input(\"enter the elements \"))\n",
    "l = []\n",
    "for i in range(0, n):\n",
    "    k = int(input())\n",
    "    l.append(k)\n",
    "a=0      \n",
    "for i in l:\n",
    "    a=a+i\n",
    "print(a)\n"
   ]
  },
  {
   "cell_type": "code",
   "execution_count": null,
   "id": "9383a5b9",
   "metadata": {},
   "outputs": [],
   "source": [
    "#2. Write a Python program to Multiply all numbers in the list?\n",
    "n=int(input(\"enter the elements \"))\n",
    "l = []\n",
    "for i in range(0, n):\n",
    "    k = int(input())\n",
    "    l.append(k)\n",
    "a=1      \n",
    "for i in l:\n",
    "    a=a+i\n",
    "print(\"The mulitplication of the numbers in the list is \",a)\n",
    "    \n",
    "    \n"
   ]
  },
  {
   "cell_type": "code",
   "execution_count": null,
   "id": "bc424fd0",
   "metadata": {},
   "outputs": [],
   "source": [
    "#3. Write a Python program to find smallest number in a list?\n",
    "n=int(input(\"enter the elements \"))\n",
    "l = []\n",
    "for i in range(0, n):\n",
    "    k = int(input())\n",
    "    l.append(k)\n",
    "a=0      \n",
    "l.sort()\n",
    "print(\"the smallest number in your list is \",l[0])\n",
    "    \n"
   ]
  },
  {
   "cell_type": "code",
   "execution_count": null,
   "id": "d0a8bce5",
   "metadata": {},
   "outputs": [],
   "source": [
    "#4. Write a Python program to find largest number in a list?\n",
    "n=int(input(\"enter the elements \"))\n",
    "l = []\n",
    "for i in range(0, n):\n",
    "    k = int(input())\n",
    "    l.append(k)\n",
    "l.sort()\n",
    "print(\"the largest number in a list is \",l[n-1])"
   ]
  },
  {
   "cell_type": "code",
   "execution_count": null,
   "id": "f313a101",
   "metadata": {},
   "outputs": [],
   "source": [
    "#5. Write a Python program to find second largest number in a list?\n",
    "n=int(input(\"enter the elements \"))\n",
    "l = []\n",
    "for i in range(0, n):\n",
    "    k = int(input())\n",
    "    l.append(k)\n",
    "l.sort() \n",
    "print(\"the second largest number in a list is \",l[n-2])\n"
   ]
  },
  {
   "cell_type": "code",
   "execution_count": null,
   "id": "b621e82c",
   "metadata": {},
   "outputs": [],
   "source": [
    "#6. Write a Python program to find N largest elements from a list?\n",
    "n=int(input(\"enter the no of elements\" ))\n",
    "l = []\n",
    "for i in range(0, n):\n",
    "    k = int(input())\n",
    "    l.append(k)\n",
    "l.sort()\n",
    "l.reverse()\n",
    "N=int(input(\"Enter the N largest elements\"))\n",
    "\n",
    "for a in range(N):\n",
    "    if a<N:\n",
    "        print(l[a])\n",
    "    if a>=N:\n",
    "        break\n",
    "    \n",
    "    \n",
    "    \n"
   ]
  },
  {
   "cell_type": "code",
   "execution_count": null,
   "id": "8a208771",
   "metadata": {},
   "outputs": [],
   "source": [
    "#7. Write a Python program to print even numbers in a list?\n",
    "n=int(input(\"enter the elements \"))\n",
    "l = []\n",
    "for i in range(0, n):\n",
    "    k = int(input())\n",
    "    l.append(k)\n",
    "for i in l:\n",
    "    if i%2==0:\n",
    "        print(\" the even numbers in the list are :\",i)\n",
    "    \n"
   ]
  },
  {
   "cell_type": "code",
   "execution_count": null,
   "id": "cdcf9a7e",
   "metadata": {},
   "outputs": [],
   "source": [
    "#8. Write a Python program to print odd numbers in a List?\n",
    "n=int(input(\"enter the elements \"))\n",
    "l = []\n",
    "for i in range(0, n):\n",
    "    k = int(input())\n",
    "    l.append(k)\n",
    "for i in l:\n",
    "    if i%2!=0:\n",
    "        print(\" the odd numbers in a list \", i)"
   ]
  },
  {
   "cell_type": "code",
   "execution_count": null,
   "id": "04931fc9",
   "metadata": {},
   "outputs": [],
   "source": [
    "#9. Write a Python program to Remove empty List from List?\n",
    "l=[\"apurva\",12,[],True,3+4j,[],[12,\"apurva\"]]\n",
    "for i in l:\n",
    "    if i==[]:\n",
    "        l.remove(i)\n",
    "print(l)        \n",
    "            \n",
    "                \n",
    "        \n",
    " "
   ]
  },
  {
   "cell_type": "code",
   "execution_count": null,
   "id": "6cb7fab0",
   "metadata": {},
   "outputs": [],
   "source": [
    "#10. Write a Python program to Cloning or Copying a list?\n",
    "l1 = [4, 8, 2, 10, 15, 18]\n",
    "l2 = l1[:]\n",
    "print(\"Original List:\", l1)\n",
    "print(\"After Cloning:\", l2)\n"
   ]
  },
  {
   "cell_type": "code",
   "execution_count": 1,
   "id": "29e618b7",
   "metadata": {},
   "outputs": [
    {
     "name": "stdout",
     "output_type": "stream",
     "text": [
      "enter the elements 7\n",
      "44\n",
      "67\n",
      "32\n",
      "78\n",
      "44\n",
      "98\n",
      "12\n",
      "Our  list is :  [44, 67, 32, 78, 44, 98, 12]\n",
      "Enter element to be checked list: 44\n",
      "2\n"
     ]
    }
   ],
   "source": [
    "#11. Write a Python program to Count occurrences of an element in a list?\n",
    "n=int(input(\"enter the elements \"))\n",
    "l = []\n",
    "for i in range(0, n):\n",
    "    k = int(input())\n",
    "    l.append(k)\n",
    "print(\"Our  list is : \",l)\n",
    "x=int(input(\"Enter element to be checked list: \"))\n",
    "print(l.count(x))"
   ]
  },
  {
   "cell_type": "code",
   "execution_count": null,
   "id": "83c2e73b",
   "metadata": {},
   "outputs": [],
   "source": []
  }
 ],
 "metadata": {
  "kernelspec": {
   "display_name": "Python 3",
   "language": "python",
   "name": "python3"
  },
  "language_info": {
   "codemirror_mode": {
    "name": "ipython",
    "version": 3
   },
   "file_extension": ".py",
   "mimetype": "text/x-python",
   "name": "python",
   "nbconvert_exporter": "python",
   "pygments_lexer": "ipython3",
   "version": "3.8.8"
  }
 },
 "nbformat": 4,
 "nbformat_minor": 5
}
