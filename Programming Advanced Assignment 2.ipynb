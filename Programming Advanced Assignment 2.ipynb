{
 "cells": [
  {
   "cell_type": "code",
   "execution_count": 8,
   "id": "2dddd53b",
   "metadata": {},
   "outputs": [],
   "source": [
    "def pentagon(n):\n",
    "    v=1\n",
    "    for i in range(8):\n",
    "        v+=5*i\n",
    "    return v    "
   ]
  },
  {
   "cell_type": "code",
   "execution_count": 125,
   "id": "2e12bbb4",
   "metadata": {},
   "outputs": [],
   "source": [
    "def encrypt(n):\n",
    "    m=[i for i in n]\n",
    "    m.reverse()\n",
    "    v={\"a\":0,\"e\":1,\"i\":2,\"o\":2,\"u\":3}\n",
    "    for i in m:\n",
    "            if i in v:\n",
    "                m[m.index(i)]=v[i]\n",
    "    for i in m:\n",
    "        if type(i)==int:\n",
    "            m[m.index(i)]=str(i)\n",
    "    return \"\".join(m)+\"aca\"    \n",
    "                \n",
    "        \n",
    "        "
   ]
  },
  {
   "cell_type": "code",
   "execution_count": null,
   "id": "aaceef30",
   "metadata": {},
   "outputs": [],
   "source": [
    "\n",
    "def pluralized(n):\n",
    "    j=0\n",
    "    v=[]\n",
    "    while(j<len(n)):\n",
    "        if n.count(n[j])>1:\n",
    "            print(True)\n",
    "            v.append(n[j]+\"s\")\n",
    "        else :\n",
    "            v.append(n[j])\n",
    "        j+=1\n",
    "    r=[]    \n",
    "    for i in v:\n",
    "        if i in r:\n",
    "            pass\n",
    "        else:\n",
    "            r.append(i)\n",
    "        \n",
    "    return r\n",
    "            \n",
    "        \n",
    "        \n",
    "        \n",
    "        "
   ]
  }
 ],
 "metadata": {
  "kernelspec": {
   "display_name": "Python 3 (ipykernel)",
   "language": "python",
   "name": "python3"
  },
  "language_info": {
   "codemirror_mode": {
    "name": "ipython",
    "version": 3
   },
   "file_extension": ".py",
   "mimetype": "text/x-python",
   "name": "python",
   "nbconvert_exporter": "python",
   "pygments_lexer": "ipython3",
   "version": "3.9.12"
  }
 },
 "nbformat": 4,
 "nbformat_minor": 5
}
