{
 "cells": [
  {
   "cell_type": "code",
   "execution_count": 15,
   "id": "e075b99d",
   "metadata": {},
   "outputs": [],
   "source": [
    "def unique_styles(n):\n",
    "    a={}\n",
    "    for i in n:\n",
    "        if i not in a:\n",
    "            a[i]=1\n",
    "        else:\n",
    "            a[i]+=1       \n",
    "    return len(a)      \n",
    "      \n",
    "        \n",
    "       \n",
    "    "
   ]
  },
  {
   "cell_type": "code",
   "execution_count": 5,
   "id": "e02d18d0",
   "metadata": {},
   "outputs": [],
   "source": [
    "import logging as lg\n",
    "lg.basicConfig(level=lg.INFO,filename='test.log')\n",
    "class ranger:\n",
    "    def power_ranger(self,n,a,b):\n",
    "        c=[]\n",
    "        try :\n",
    "            for i in range(a,b+1):\n",
    "                if int((i)**(1/n))==(i)**(1/n):\n",
    "                    c.append(i)\n",
    "                    self.logger(i) \n",
    "                  \n",
    "        except:\n",
    "            self.logger(\"There is problem with the inputs\")\n",
    "        return len(c)\n",
    "    def logger(self,a):\n",
    "        lg.info(a)\n",
    "    \n",
    "     \n",
    "            "
   ]
  },
  {
   "cell_type": "code",
   "execution_count": 34,
   "id": "6a0fdb11",
   "metadata": {},
   "outputs": [],
   "source": [
    "def rearranged_difference(n):\n",
    "    a=[i for i in str(n)]\n",
    "    b=sorted(a)\n",
    "    c=sorted(a,reverse=True)\n",
    "    d=\"\".join(b)\n",
    "    e=\"\".join(c)\n",
    "    return int(e)-int(d)\n",
    "    "
   ]
  },
  {
   "cell_type": "code",
   "execution_count": 108,
   "id": "4045eaeb",
   "metadata": {},
   "outputs": [
    {
     "name": "stdout",
     "output_type": "stream",
     "text": [
      "5\n",
      "[5, 1, 6, 9, 0]\n",
      "6\n",
      "[6, 1, 5, 9, 0]\n",
      "9\n",
      "[9, 1, 5, 6, 0]\n",
      "0\n",
      "5\n",
      "[9, 5, 1, 6, 0]\n",
      "6\n",
      "[9, 6, 1, 5, 0]\n",
      "0\n",
      "5\n",
      "[9, 6, 5, 1, 0]\n",
      "0\n",
      "0\n",
      "[9, 6, 5, 1, 0]\n"
     ]
    }
   ],
   "source": [
    "#sorting\n",
    "number=[1,5,6,9,0]\n",
    "for i in range(len(number)):\n",
    "    for j in range(i+1,len(number)):\n",
    "        print(number[j])\n",
    "        if number[i]<number[j]:\n",
    "            number[i],number[j]=number[j],number[i]  \n",
    "            print(number)\n",
    "print(number)"
   ]
  },
  {
   "cell_type": "code",
   "execution_count": 103,
   "id": "a10aa428",
   "metadata": {},
   "outputs": [
    {
     "name": "stdout",
     "output_type": "stream",
     "text": [
      "[10, 4, 2]\n",
      "[10, 4]\n",
      "[10]\n",
      "[]\n"
     ]
    }
   ],
   "source": [
    "\n",
    "\n",
    "#sorting\n",
    "my_list = [10,4,1,2]\n",
    "new_list = []\n",
    "\n",
    "while my_list:\n",
    "    a = my_list[0]\n",
    "    for x in my_list:\n",
    "        if x < a:\n",
    "            a = x\n",
    "    new_list.append(a)\n",
    "    my_list.remove(a)\n",
    "    print(my_list)\n",
    "    \n"
   ]
  },
  {
   "cell_type": "code",
   "execution_count": 109,
   "id": "471b0a56",
   "metadata": {},
   "outputs": [],
   "source": [
    "            \n",
    "            \n",
    "def is_primes(primes,m):\n",
    "    if m in primes:\n",
    "        return \"yes\"\n",
    "    else:\n",
    "        return \"no\"\n",
    "    "
   ]
  },
  {
   "cell_type": "code",
   "execution_count": 113,
   "id": "fcc7e312",
   "metadata": {},
   "outputs": [
    {
     "data": {
      "text/plain": [
       "'no'"
      ]
     },
     "execution_count": 113,
     "metadata": {},
     "output_type": "execute_result"
    }
   ],
   "source": [
    "is_primes(primes, 36)"
   ]
  },
  {
   "cell_type": "code",
   "execution_count": null,
   "id": "edb778f9",
   "metadata": {},
   "outputs": [],
   "source": []
  }
 ],
 "metadata": {
  "kernelspec": {
   "display_name": "Python 3 (ipykernel)",
   "language": "python",
   "name": "python3"
  },
  "language_info": {
   "codemirror_mode": {
    "name": "ipython",
    "version": 3
   },
   "file_extension": ".py",
   "mimetype": "text/x-python",
   "name": "python",
   "nbconvert_exporter": "python",
   "pygments_lexer": "ipython3",
   "version": "3.9.12"
  }
 },
 "nbformat": 4,
 "nbformat_minor": 5
}
