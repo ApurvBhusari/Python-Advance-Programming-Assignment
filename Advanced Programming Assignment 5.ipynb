{
 "cells": [
  {
   "cell_type": "code",
   "execution_count": null,
   "id": "f06577c2",
   "metadata": {},
   "outputs": [],
   "source": [
    "def checkMajorityElement(arr):\n",
    "    mp = {}\n",
    "    for i in range(len(arr)):\n",
    "        if arr[i] in mp.keys():\n",
    "            mp[arr[i]] += 1\n",
    "        else:\n",
    "            mp[arr[i]] = 1\n",
    "            \n",
    "    c=\"\"        \n",
    "    for key in mp:\n",
    "        if mp[key] > (len(arr) / 2):\n",
    "            print( mp[key])\n",
    "            c+=key\n",
    "            return c\n",
    "        else:\n",
    "            return \"none\"\n",
    "        \n",
    "        "
   ]
  },
  {
   "cell_type": "code",
   "execution_count": null,
   "id": "5fdbc3b3",
   "metadata": {},
   "outputs": [],
   "source": [
    "string()"
   ]
  },
  {
   "cell_type": "code",
   "execution_count": null,
   "id": "6c65aa57",
   "metadata": {},
   "outputs": [],
   "source": [
    "def censor_string(txt, lst, char):\n",
    "    words = txt.split(\" \")\n",
    "    newtxt = [w if w not in lst else len(w)*char for w in words]\n",
    "    return ' '.join(newtxt)"
   ]
  },
  {
   "cell_type": "code",
   "execution_count": null,
   "id": "7556d7e1",
   "metadata": {},
   "outputs": [],
   "source": [
    "censor_string(\"Today is a Wednesday!\", [\"Today\", \"a\"], \"-\")"
   ]
  },
  {
   "cell_type": "code",
   "execution_count": null,
   "id": "142eab55",
   "metadata": {},
   "outputs": [],
   "source": [
    "def censor(n,m,l):\n",
    "    c=n.split()\n",
    "    d=[]\n",
    "    for i in c:\n",
    "        if i not in m:\n",
    "            d.append(i)\n",
    "        else:\n",
    "            d.append(len(i)*l)\n",
    "    return \" \".join(d)        "
   ]
  },
  {
   "cell_type": "code",
   "execution_count": null,
   "id": "8366af1a",
   "metadata": {},
   "outputs": [],
   "source": [
    "def censor2(n,m,l):\n",
    "    c=n.split()\n",
    "    d=[]\n",
    "    for i in c:\n",
    "        if i in m:\n",
    "            d.append(len(i)*l)\n",
    "        else:\n",
    "            d.append(i)\n",
    "    return \" \".join(d)   "
   ]
  },
  {
   "cell_type": "code",
   "execution_count": null,
   "id": "e6e7bdb5",
   "metadata": {},
   "outputs": [],
   "source": [
    "censor(\"Why did the chicken cross the road ?\", [\"did\", \"chicken\", \"road\"], \"*\")"
   ]
  },
  {
   "cell_type": "code",
   "execution_count": null,
   "id": "0ab207e7",
   "metadata": {},
   "outputs": [],
   "source": [
    "censor2(\"Why did the chicken cross the road ?\", [\"did\", \"chicken\", \"road\"], \"*\")"
   ]
  },
  {
   "cell_type": "code",
   "execution_count": null,
   "id": "948c79fa",
   "metadata": {},
   "outputs": [],
   "source": []
  },
  {
   "cell_type": "code",
   "execution_count": null,
   "id": "8013f52f",
   "metadata": {},
   "outputs": [],
   "source": [
    "def censor1(n,m,l):\n",
    "    c=n.split()\n",
    "    d=[i if i not in m else len(i)*l for i in c]\n",
    "    return ' '.join(d)"
   ]
  },
  {
   "cell_type": "code",
   "execution_count": null,
   "id": "f7379908",
   "metadata": {},
   "outputs": [],
   "source": [
    "fruits = [\"apple\", \"banana\", \"cherry\", \"kiwi\", \"mango\"]\n",
    "\n",
    "newlist = [x if x != \"banana\" else \"orange\" for x in fruits]\n",
    "\n",
    "print(newlist)\n"
   ]
  },
  {
   "cell_type": "code",
   "execution_count": null,
   "id": "7a15b026",
   "metadata": {},
   "outputs": [],
   "source": [
    "fruits = [\"apple\", \"banana\", \"cherry\", \"kiwi\", \"mango\"]\n",
    "newlist1=[]\n",
    "for i in fruits:\n",
    "    if i!=\"banana\":\n",
    "        newlist1.append(i)\n",
    "    if i==\"cherry\":\n",
    "        newlist1.append(\"orange\")\n",
    "print(newlist1)        "
   ]
  },
  {
   "cell_type": "code",
   "execution_count": null,
   "id": "df10dde9",
   "metadata": {},
   "outputs": [],
   "source": [
    "fruits = [\"apple\", \"banana\", \"cherry\", \"kiwi\", \"mango\"]\n",
    "newlist1=[i for i in fruits if i!=\"banana\" ]\n",
    "print(newlist1)"
   ]
  },
  {
   "cell_type": "code",
   "execution_count": null,
   "id": "6c062ddc",
   "metadata": {},
   "outputs": [],
   "source": [
    "list_1 = [-2, -1, 0, 1, 2, 3]\n",
    "list_2 = [4, 5, 6, 7, 8]\n",
    "list_3 = [ i * j for i in list_1 for j in list_2 if i > 0 if j % 2 == 0 ]\n",
    "print(list_3)\n"
   ]
  },
  {
   "cell_type": "code",
   "execution_count": 1,
   "id": "dfd3fab2",
   "metadata": {},
   "outputs": [
    {
     "name": "stdout",
     "output_type": "stream",
     "text": [
      "[4, 6, 8, 8, 12, 16, 12, 18, 24]\n"
     ]
    }
   ],
   "source": [
    "list_1 = [-2, -1, 0, 1, 2, 3]\n",
    "list_2 = [4, 5, 6, 7, 8]\n",
    "list_3 =[]\n",
    "for i in list_1:\n",
    "    for j in list_2:\n",
    "        if i>0 :\n",
    "            if j%2==0:\n",
    "                list_3.append(i*j)\n",
    "print(list_3)"
   ]
  },
  {
   "cell_type": "code",
   "execution_count": 63,
   "id": "a82980e6",
   "metadata": {},
   "outputs": [],
   "source": [
    "def polydivisible1(n):\n",
    "    x=str(n)\n",
    "    a=''\n",
    "    for i in x:\n",
    "        a+=i\n",
    "        if int(a)%len(a)!=0:\n",
    "            return False\n",
    "        else:\n",
    "            continue\n",
    "          \n",
    "    return True    \n",
    "        \n",
    "        \n",
    "                   \n",
    "                   \n",
    "                   \n",
    "            "
   ]
  },
  {
   "cell_type": "code",
   "execution_count": 68,
   "id": "419509be",
   "metadata": {},
   "outputs": [
    {
     "data": {
      "text/plain": [
       "False"
      ]
     },
     "execution_count": 68,
     "metadata": {},
     "output_type": "execute_result"
    }
   ],
   "source": [
    "polydivisible1(11)"
   ]
  },
  {
   "cell_type": "code",
   "execution_count": 56,
   "id": "be162d64",
   "metadata": {},
   "outputs": [],
   "source": [
    "def polydivisible(x):\n",
    "    x = str(x)\n",
    "    for i in range(len(x)):\n",
    "        if int(x[0:i+1]) % (i+1) != 0:\n",
    "            return False\n",
    "    return True"
   ]
  },
  {
   "cell_type": "code",
   "execution_count": 58,
   "id": "d7aa52c7",
   "metadata": {},
   "outputs": [
    {
     "data": {
      "text/plain": [
       "False"
      ]
     },
     "execution_count": 58,
     "metadata": {},
     "output_type": "execute_result"
    }
   ],
   "source": [
    " polydivisible(123220)"
   ]
  },
  {
   "cell_type": "code",
   "execution_count": 83,
   "id": "d2ab8bb9",
   "metadata": {},
   "outputs": [],
   "source": [
    "def sum_primes(n):\n",
    "    c=[]\n",
    "    d=[]\n",
    "    for i in n:\n",
    "        if i==1:\n",
    "            \n",
    "        for j in range(2,i):\n",
    "            if i%j==!0:\n",
    "                c.append(i)\n",
    "                \n",
    "                \n",
    "                \n",
    "                \n",
    "            \n",
    "            \n",
    "            \n",
    "        "
   ]
  },
  {
   "cell_type": "code",
   "execution_count": null,
   "id": "34ce68e3",
   "metadata": {},
   "outputs": [],
   "source": [
    "sum_primes([1, 2, 3, 4, 5, 6, 7, 8, 9, 10]"
   ]
  },
  {
   "cell_type": "code",
   "execution_count": 109,
   "id": "c264e245",
   "metadata": {},
   "outputs": [
    {
     "name": "stdout",
     "output_type": "stream",
     "text": [
      "10\n",
      "17\n"
     ]
    }
   ],
   "source": [
    "n = int(input())\n",
    "list = []\n",
    "sum = 0\n",
    "for i in range(2, n+1):\n",
    "    for j in range(2, i):\n",
    "        if i % j == 0:\n",
    "            break\n",
    "    else:\n",
    "        sum = sum + i\n",
    "       \n",
    "print(sum)"
   ]
  },
  {
   "cell_type": "code",
   "execution_count": 98,
   "id": "f044164a",
   "metadata": {},
   "outputs": [
    {
     "data": {
      "text/plain": [
       "0"
      ]
     },
     "execution_count": 98,
     "metadata": {},
     "output_type": "execute_result"
    }
   ],
   "source": [
    "2%2"
   ]
  },
  {
   "cell_type": "code",
   "execution_count": 108,
   "id": "78f6c266",
   "metadata": {},
   "outputs": [],
   "source": [
    "for i in range(2,2):\n",
    "    print(i)"
   ]
  },
  {
   "cell_type": "code",
   "execution_count": 124,
   "id": "47f0e95b",
   "metadata": {},
   "outputs": [
    {
     "name": "stdout",
     "output_type": "stream",
     "text": [
      "0\n",
      "1\n",
      "1\n",
      "2\n",
      "1\n",
      "3\n",
      "1\n",
      "3\n",
      "2\n",
      "3\n",
      "[2, 3, 5, 7]\n"
     ]
    }
   ],
   "source": [
    "list=[1,2,3,4,5,6,7,8,9,10]\n",
    "prime=[]\n",
    "for i in list:\n",
    "    c=0\n",
    "    for j in range(1,i):\n",
    "        if i%j==0:\n",
    "            c+=1 \n",
    "    print(c)\n",
    "    if c==1:\n",
    "        prime.append(i)\n",
    "print(prime)"
   ]
  },
  {
   "cell_type": "code",
   "execution_count": null,
   "id": "80d1b082",
   "metadata": {},
   "outputs": [],
   "source": []
  }
 ],
 "metadata": {
  "kernelspec": {
   "display_name": "Python 3 (ipykernel)",
   "language": "python",
   "name": "python3"
  },
  "language_info": {
   "codemirror_mode": {
    "name": "ipython",
    "version": 3
   },
   "file_extension": ".py",
   "mimetype": "text/x-python",
   "name": "python",
   "nbconvert_exporter": "python",
   "pygments_lexer": "ipython3",
   "version": "3.9.12"
  }
 },
 "nbformat": 4,
 "nbformat_minor": 5
}
