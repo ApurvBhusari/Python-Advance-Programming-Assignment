{
 "cells": [
  {
   "cell_type": "code",
   "execution_count": 96,
   "id": "6f59e91e",
   "metadata": {},
   "outputs": [
    {
     "name": "stdout",
     "output_type": "stream",
     "text": [
      "CPU times: total: 0 ns\n",
      "Wall time: 0 ns\n"
     ]
    }
   ],
   "source": [
    "%%time\n",
    "def find_the_difference1(a,b):\n",
    "    c=''\n",
    "    for i in b:\n",
    "        if b.count(i)!=a.count(i):\n",
    "            c+=i\n",
    "    return \"\".join(list(set(list(c))))     \n",
    "            \n",
    "        \n",
    "    \n",
    "            \n",
    "            \n",
    "            \n",
    "            \n",
    "            \n",
    "\n",
    "            \n",
    "            \n",
    "    \n",
    "    \n",
    "    "
   ]
  },
  {
   "cell_type": "code",
   "execution_count": 125,
   "id": "6dabed21",
   "metadata": {},
   "outputs": [
    {
     "data": {
      "text/plain": [
       "'e'"
      ]
     },
     "execution_count": 125,
     "metadata": {},
     "output_type": "execute_result"
    }
   ],
   "source": [
    "find_the_difference1(\"aaaeee\", \"aaaeeeeeeee\")"
   ]
  },
  {
   "cell_type": "code",
   "execution_count": 64,
   "id": "a37a2db8",
   "metadata": {},
   "outputs": [
    {
     "data": {
      "text/plain": [
       "0"
      ]
     },
     "execution_count": 64,
     "metadata": {},
     "output_type": "execute_result"
    }
   ],
   "source": [
    "a=\"abcd\"\n",
    "a.count(\"e\")"
   ]
  },
  {
   "cell_type": "code",
   "execution_count": 129,
   "id": "73718116",
   "metadata": {},
   "outputs": [],
   "source": [
    "\n",
    "def findTheDifference(s, t):\n",
    "    \n",
    "    dic = {}\n",
    "    for i in s:\n",
    "        if i not in dic.keys():\n",
    "            dic[i] = 1\n",
    "        else:\n",
    "            dic[i] += 1\n",
    "    print(dic)    \n",
    "    for i in t:\n",
    "        if i not in dic.keys():\n",
    "            print(i)\n",
    "            return i\n",
    "        else:\n",
    "            print(i)\n",
    "            dic[i] -= 1\n",
    "    for i in dic.keys():\n",
    "        if dic[i] != 0:\n",
    "            return i      \n",
    "    "
   ]
  },
  {
   "cell_type": "code",
   "execution_count": 130,
   "id": "9d66a209",
   "metadata": {},
   "outputs": [
    {
     "name": "stdout",
     "output_type": "stream",
     "text": [
      "{'a': 3, 'e': 3}\n",
      "a\n",
      "a\n",
      "a\n",
      "e\n",
      "e\n",
      "e\n"
     ]
    }
   ],
   "source": [
    "findTheDifference(\"aaaeee\", \"aaaeee\")"
   ]
  },
  {
   "cell_type": "code",
   "execution_count": 131,
   "id": "866ce194",
   "metadata": {},
   "outputs": [],
   "source": [
    "class Solution:\n",
    "    def findTheDifference(self, s: str, t: str) -> str:\n",
    "        for ii in range(len(t)):\n",
    "             if t[ii] not in s:\n",
    "                return t[ii]\n",
    "             else:\n",
    "                s = s.replace(t[ii],'',1)\n",
    "             if len(s) == 0:\n",
    "                return t[ii+1]"
   ]
  },
  {
   "cell_type": "code",
   "execution_count": 172,
   "id": "47307f4a",
   "metadata": {},
   "outputs": [],
   "source": [
    " def findTheDifference2(s, t):\n",
    "        for ii in range(len(t)):\n",
    "            if t[ii] not in s:\n",
    "                return t[ii]\n",
    "            else:\n",
    "                s = s.replace(t[ii],'')\n",
    "            "
   ]
  },
  {
   "cell_type": "code",
   "execution_count": null,
   "id": "5e02b654",
   "metadata": {},
   "outputs": [],
   "source": [
    "def datatypes1(*args):\n",
    "    b={}\n",
    "    for i in args:\n",
    "        if type(i) in b:\n",
    "            b[type(i)].append(i)\n",
    "        else:\n",
    "            b[type(i)]=[i] \n",
    "    print(b)        \n",
    "    a=[]\n",
    "    c=[int, str, bool, list, tuple, dict]\n",
    "    for i in c:\n",
    "        if i in b:\n",
    "            a.append(len(b[i]))\n",
    "        else:\n",
    "            a.append(0)\n",
    "    return a        \n",
    "        \n",
    "        \n",
    "        "
   ]
  },
  {
   "cell_type": "code",
   "execution_count": null,
   "id": "4b92b366",
   "metadata": {},
   "outputs": [],
   "source": [
    "def fib_str(n,m):\n",
    "    a=m[0]\n",
    "    b=m[1]\n",
    "    c=[]\n",
    "    for i in range(n):\n",
    "        c.append(a)\n",
    "        d=b+a\n",
    "        a=b\n",
    "        b=d\n",
    "    return c    \n",
    "        \n",
    "    \n",
    "    "
   ]
  },
  {
   "cell_type": "code",
   "execution_count": 40,
   "id": "1e6e113e",
   "metadata": {},
   "outputs": [],
   "source": [
    "def fib_index(n):\n",
    "    a=0\n",
    "    b=1\n",
    "    d=[]\n",
    "    for i in range(n+1):\n",
    "        d.append(a) \n",
    "        c=a+b\n",
    "        a=b\n",
    "        b=c\n",
    "    return d[n]\n",
    "        \n",
    "        \n",
    "        "
   ]
  },
  {
   "cell_type": "code",
   "execution_count": 47,
   "id": "c5d41ab1",
   "metadata": {},
   "outputs": [
    {
     "data": {
      "text/plain": [
       "8"
      ]
     },
     "execution_count": 47,
     "metadata": {},
     "output_type": "execute_result"
    }
   ],
   "source": [
    " fib_index(6)\n",
    "\n",
    "    "
   ]
  },
  {
   "cell_type": "code",
   "execution_count": 20,
   "id": "dd5e3bb0",
   "metadata": {},
   "outputs": [],
   "source": [
    "def fib_index1(n):\n",
    "    a=0\n",
    "    d=[]\n",
    "    for i in range(n):\n",
    "        d.append(a) \n",
    "        a+=(i+1)\n",
    "    return d\n",
    "        \n",
    "        \n",
    "                \n",
    "        \n",
    "        \n"
   ]
  },
  {
   "cell_type": "code",
   "execution_count": 58,
   "id": "b3db79a1",
   "metadata": {},
   "outputs": [],
   "source": [
    "def ones_threes_nines(n):\n",
    "    f={\"nines\":0, \"threes\":0, \"ones\":0}\n",
    "    if n>=9:\n",
    "        a=n//9\n",
    "        b=n%9\n",
    "        f[\"nines\"]+=(a)\n",
    "        if b>=3:\n",
    "            f[\"threes\"]+=(b//3)\n",
    "            if b//3>=1:\n",
    "                f[\"ones\"]+=((b//3)//1)\n",
    "            if b//3<1:\n",
    "                f[\"ones\"]=0\n",
    "        if b<3:\n",
    "            f[\"ones\"]+=(b//1)\n",
    "    if n>=3:\n",
    "        d=n//3\n",
    "        e=n%3\n",
    "        f[\"threes\"]+=n//3\n",
    "        if n>=1:\n",
    "            f[\"ones\"]+=n//1\n",
    "    if n>=1:\n",
    "        f[\"ones\"]+=n//1\n",
    "    else:\n",
    "        return {\"nines\":0,\" threes\":0, \"ones\":0}\n",
    "    return f\n",
    "        \n",
    "    \n",
    "        \n",
    "        \n",
    "    \n",
    "    "
   ]
  },
  {
   "cell_type": "code",
   "execution_count": 59,
   "id": "b6046aca",
   "metadata": {},
   "outputs": [
    {
     "data": {
      "text/plain": [
       "8"
      ]
     },
     "execution_count": 59,
     "metadata": {},
     "output_type": "execute_result"
    }
   ],
   "source": [
    "98%9"
   ]
  },
  {
   "cell_type": "code",
   "execution_count": 53,
   "id": "474d71fd",
   "metadata": {},
   "outputs": [
    {
     "data": {
      "text/plain": [
       "1"
      ]
     },
     "execution_count": 53,
     "metadata": {},
     "output_type": "execute_result"
    }
   ],
   "source": [
    "9//9"
   ]
  },
  {
   "cell_type": "code",
   "execution_count": 60,
   "id": "3d15ec36",
   "metadata": {},
   "outputs": [
    {
     "data": {
      "text/plain": [
       "{'nines': 1, 'threes': 3, 'ones': 21}"
      ]
     },
     "execution_count": 60,
     "metadata": {},
     "output_type": "execute_result"
    }
   ],
   "source": [
    "ones_threes_nines(10)"
   ]
  },
  {
   "cell_type": "code",
   "execution_count": null,
   "id": "17343d51",
   "metadata": {},
   "outputs": [],
   "source": []
  }
 ],
 "metadata": {
  "kernelspec": {
   "display_name": "Python 3 (ipykernel)",
   "language": "python",
   "name": "python3"
  },
  "language_info": {
   "codemirror_mode": {
    "name": "ipython",
    "version": 3
   },
   "file_extension": ".py",
   "mimetype": "text/x-python",
   "name": "python",
   "nbconvert_exporter": "python",
   "pygments_lexer": "ipython3",
   "version": "3.9.12"
  }
 },
 "nbformat": 4,
 "nbformat_minor": 5
}
