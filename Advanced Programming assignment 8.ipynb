{
 "cells": [
  {
   "cell_type": "code",
   "execution_count": null,
   "id": "c8921113",
   "metadata": {},
   "outputs": [],
   "source": [
    "class vowel:\n",
    "    def vowel_links(n):\n",
    "        b=['a','e','i','o','u']\n",
    "        for i in range(len(n)):\n",
    "            if n[i]==\" \":\n",
    "                if n[i-1] in b:\n",
    "                    if n[i+1] in b:\n",
    "                        return True\n",
    "        else:\n",
    "            return False\n",
    "\n",
    "            "
   ]
  },
  {
   "cell_type": "code",
   "execution_count": 2,
   "id": "e1433e02",
   "metadata": {},
   "outputs": [],
   "source": [
    "class first:\n",
    "    def first_before_second(n,m,l):\n",
    "        a=[]\n",
    "        for i in range(len(n)):\n",
    "            if n[i]==m:\n",
    "                a.append(i)\n",
    "        if a[(len(a)-1)]<(n.index(l)):\n",
    "            return True\n",
    "        else:\n",
    "            return False\n",
    "\n",
    "            \n",
    "    \n",
    "    \n",
    "          \n",
    "            "
   ]
  },
  {
   "cell_type": "code",
   "execution_count": 3,
   "id": "1d3a957b",
   "metadata": {},
   "outputs": [
    {
     "data": {
      "text/plain": [
       "True"
      ]
     },
     "execution_count": 3,
     "metadata": {},
     "output_type": "execute_result"
    }
   ],
   "source": [
    "first.first_before_second(\"a rabbit jumps joyfully\", \"a\", \"j\")"
   ]
  },
  {
   "cell_type": "code",
   "execution_count": null,
   "id": "1b9010b4",
   "metadata": {},
   "outputs": [],
   "source": [
    "class char:\n",
    "    def char_at_pos(n,m):\n",
    "        a=[]\n",
    "        if m=='even':\n",
    "            for i in range(1,len(n),2):\n",
    "                a.append(n[i])\n",
    "        if m=='odd':\n",
    "            for i in range(0,len(n),2):\n",
    "                a.append(n[i])\n",
    "        return a   \n",
    "     \n",
    "        \n",
    "    \n",
    "       \n",
    "            \n",
    "            \n",
    "    "
   ]
  },
  {
   "cell_type": "code",
   "execution_count": null,
   "id": "4ab074c5",
   "metadata": {},
   "outputs": [],
   "source": [
    "class gcd:\n",
    "    def gcd(my_list):\n",
    "        result = my_list[0]\n",
    " \n",
    "        for i in my_list[1:]:\n",
    "            if result < i :\n",
    "                temp = result\n",
    "                result = i\n",
    "                i = temp    \n",
    "            while i != 0:\n",
    "                temp = i  \n",
    "                i = result % i\n",
    "                result = temp\n",
    "        return result \n",
    "            \n"
   ]
  },
  {
   "cell_type": "code",
   "execution_count": 124,
   "id": "07184ecd",
   "metadata": {},
   "outputs": [],
   "source": [
    "class palindrome:\n",
    "    def palin(n):\n",
    "        if str(n)[::1]==str(n)[::-1]:\n",
    "            if str(bin(n))[::1][2:]==str(bin(n))[2::][::-1]:\n",
    "                return \"decimal and binary\"\n",
    "            else:\n",
    "                return \"decimal only\"\n",
    "        elif str(bin(n))[::1][2:]==str(bin(n))[2::][::-1]:\n",
    "            return \"binary only\"\n",
    "        else:\n",
    "            return \"neither\"\n",
    "        "
   ]
  },
  {
   "cell_type": "code",
   "execution_count": null,
   "id": "0bdacef1",
   "metadata": {},
   "outputs": [],
   "source": []
  }
 ],
 "metadata": {
  "kernelspec": {
   "display_name": "Python 3 (ipykernel)",
   "language": "python",
   "name": "python3"
  },
  "language_info": {
   "codemirror_mode": {
    "name": "ipython",
    "version": 3
   },
   "file_extension": ".py",
   "mimetype": "text/x-python",
   "name": "python",
   "nbconvert_exporter": "python",
   "pygments_lexer": "ipython3",
   "version": "3.9.12"
  }
 },
 "nbformat": 4,
 "nbformat_minor": 5
}
