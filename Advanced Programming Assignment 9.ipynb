{
 "cells": [
  {
   "cell_type": "code",
   "execution_count": 35,
   "id": "c0c92ae6",
   "metadata": {},
   "outputs": [],
   "source": [
    "def playback_duration(n,m):\n",
    "    a=n.split(sep =\":\")\n",
    "    b=[int(i) for i in a]\n",
    "    c=b[0]*60+b[1]\n",
    "    print(c)\n",
    "    d=((c*60+b[2])/m)/60\n",
    "    e=(float(d)-int(d))*60\n",
    "    f=float((int(d)/60))-int((int(d)/60))\n",
    "    g=int(int(d)/60)\n",
    "    print(e,f,g)\n",
    "    \n",
    "   \n",
    "          \n",
    "        \n",
    "        \n",
    "        \n",
    "        \n",
    "        \n",
    "        \n",
    "       \n",
    "    "
   ]
  },
  {
   "cell_type": "code",
   "execution_count": null,
   "id": "1958318b",
   "metadata": {},
   "outputs": [],
   "source": [
    "class fulcrum():\n",
    "    def getfulcrum(n):\n",
    "        for i in range(1,len(n)-1):\n",
    "            if sum(n[0:i])==sum(n[(len(n)-1):i:-1]):\n",
    "                return n[i]\n",
    "a=fulcrum.getfulcrum([8, 8, 8, 8])\n",
    "print(a)\n",
    "\n",
    "\n",
    "\n",
    "\n",
    "\n",
    "\n",
    "\n",
    "                \n",
    "\n",
    "\n",
    "\n"
   ]
  }
 ],
 "metadata": {
  "kernelspec": {
   "display_name": "Python 3 (ipykernel)",
   "language": "python",
   "name": "python3"
  },
  "language_info": {
   "codemirror_mode": {
    "name": "ipython",
    "version": 3
   },
   "file_extension": ".py",
   "mimetype": "text/x-python",
   "name": "python",
   "nbconvert_exporter": "python",
   "pygments_lexer": "ipython3",
   "version": "3.9.12"
  }
 },
 "nbformat": 4,
 "nbformat_minor": 5
}
