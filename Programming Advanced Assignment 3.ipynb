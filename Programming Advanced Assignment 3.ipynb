{
 "cells": [
  {
   "cell_type": "code",
   "execution_count": 3,
   "id": "296c7ad0",
   "metadata": {},
   "outputs": [],
   "source": [
    "def arithmetic_operation(a):\n",
    "    b=a.split()\n",
    "    c=['+',\"-\",'*','//']\n",
    "    v=[]\n",
    "    for i in b:\n",
    "        if i in c:\n",
    "            v.append(i)\n",
    "            b.remove(i)\n",
    "   \n",
    "    if v[0]==\"+\":\n",
    "        c=0\n",
    "        for i in b:\n",
    "            c+=int(i)\n",
    "        return c    \n",
    "\n",
    "    if v[0]==\"-\":\n",
    "        print(True)\n",
    "        w=int(b[0])\n",
    "        for i in range(1,len(b)):\n",
    "            w-=int(b[i]) \n",
    "        return w\n",
    "    \n",
    "    if v[0]==\"*\":\n",
    "        d=1\n",
    "        for i in b:\n",
    "            d*=int(i)\n",
    "        return d    \n",
    "    if v[0]==\"//\":\n",
    "        c=int(b[0])\n",
    "        for i in range(1,len(b)):\n",
    "            if int(b[i])==0:\n",
    "                return -1\n",
    "            else:\n",
    "                c=c//int(b[i])\n",
    "                return c\n",
    "        \n",
    "    \n",
    "    \n",
    "    \n",
    "    "
   ]
  },
  {
   "cell_type": "code",
   "execution_count": null,
   "id": "18f28d85",
   "metadata": {},
   "outputs": [],
   "source": [
    "def is_disarium(n):\n",
    "    a=[i for i in str(n)]\n",
    "    b=0\n",
    "    for i in a:\n",
    "        b+=(int(i)**(a.index(i)+1))\n",
    "        \n",
    "    print(b)    \n",
    "    if b==n:\n",
    "        return True\n",
    "    else:\n",
    "        return False   \n",
    "is_disarium(135)        \n",
    "\n",
    "\n",
    "\n",
    "\n"
   ]
  }
 ],
 "metadata": {
  "kernelspec": {
   "display_name": "Python 3 (ipykernel)",
   "language": "python",
   "name": "python3"
  },
  "language_info": {
   "codemirror_mode": {
    "name": "ipython",
    "version": 3
   },
   "file_extension": ".py",
   "mimetype": "text/x-python",
   "name": "python",
   "nbconvert_exporter": "python",
   "pygments_lexer": "ipython3",
   "version": "3.9.12"
  }
 },
 "nbformat": 4,
 "nbformat_minor": 5
}
