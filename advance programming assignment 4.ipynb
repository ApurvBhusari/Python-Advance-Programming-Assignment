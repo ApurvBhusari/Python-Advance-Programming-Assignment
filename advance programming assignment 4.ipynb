{
 "cells": [
  {
   "cell_type": "code",
   "execution_count": null,
   "id": "3bffc20a",
   "metadata": {},
   "outputs": [],
   "source": [
    "#1. Write a Python Program to Find the Factorial of a Number?\n",
    "import math\n",
    "n=int(input(\"enter the value \"))\n",
    "if n<1:\n",
    "    print(\" factorial of the negative numbers are not possible\")\n",
    "if n>1:\n",
    "    print(math.factorial(n))\n",
    "    \n",
    "\n",
    "\n",
    "\n"
   ]
  },
  {
   "cell_type": "code",
   "execution_count": null,
   "id": "6433d3e4",
   "metadata": {},
   "outputs": [],
   "source": [
    "#2. Write a Python Program to Display the multiplication Table?\n",
    "n=int(input(\"enter the value for table\"))\n",
    "if n<1:\n",
    "    print(\"there is no multiplication table present for negative numbers and zero\")\n",
    "if n>=1:\n",
    "    for i in range(1,11):\n",
    "        print(n ,\" x\" ,i ,\"=\" ,n )\n"
   ]
  },
  {
   "cell_type": "code",
   "execution_count": null,
   "id": "498220e7",
   "metadata": {},
   "outputs": [],
   "source": [
    "#Write a Python Program to Print the Fibonacci sequence?\n",
    "n=int(input(\"enter the values \"))\n",
    "m=0\n",
    "l=1\n",
    "if n<=0:\n",
    "    print(\"Please enter positive integers\")\n",
    "if n==1:\n",
    "    print(m)\n",
    "else:\n",
    "    print(\"fibonacci sequence for this is \")\n",
    "    for i in range(n):\n",
    "        print(m)\n",
    "        temp=m+l\n",
    "        m=l\n",
    "        l=temp\n",
    "      \n",
    "    \n",
    "    \n",
    "    \n",
    "    \n",
    "    \n",
    "    \n",
    "    \n",
    "    \n",
    "    "
   ]
  },
  {
   "cell_type": "code",
   "execution_count": null,
   "id": "332f4fc1",
   "metadata": {},
   "outputs": [],
   "source": [
    "#4. Write a Python Program to Check Armstrong Number?\n",
    "n = int(input(\"Enter a number: \"))\n",
    "l=len(str(n))\n",
    "\n",
    "\n",
    "sum = 0\n",
    "\n",
    "temp = n\n",
    "while temp > 0:\n",
    "   m = temp % 10\n",
    "   sum += m **l\n",
    "   temp //= 10 \n",
    "\n",
    "if n == sum:\n",
    "   print(n,\"is an Armstrong number\")\n",
    "else:\n",
    "   print(n,\"is not an Armstrong number\")\n"
   ]
  },
  {
   "cell_type": "code",
   "execution_count": null,
   "id": "f4f3a7a0",
   "metadata": {},
   "outputs": [],
   "source": [
    "#5. Write a Python Program to Find Armstrong Number in an Interval?\n",
    "n = int(input(\"Enter a lower bound: \"))\n",
    "o = int(input(\"Enter a upper bound: \"))\n",
    "\n",
    "\n",
    "for num in range(n,o+1):\n",
    "    l=len(str(num))\n",
    "    sum = 0\n",
    "    temp = num\n",
    "    while(temp>0):\n",
    "        m = temp % 10\n",
    "        sum += m **l\n",
    "        temp //= 10 \n",
    "\n",
    "    if num == sum:\n",
    "        print(num,\"is an Armstrong number\")\n"
   ]
  },
  {
   "cell_type": "code",
   "execution_count": null,
   "id": "0afdb9ed",
   "metadata": {},
   "outputs": [],
   "source": [
    "#Write a Python Program to Find the Sum of Natural Numbers?\n",
    "num = int(input(\"Enter the value\"))\n",
    "\n",
    "if num < 0:\n",
    "   print(\"Enter any positive number\")\n",
    "else:\n",
    "   sum = 0\n",
    "   while(num > 0):\n",
    "       sum += num\n",
    "       num -= 1\n",
    "   print(\"The sum is\", sum)\n"
   ]
  },
  {
   "cell_type": "code",
   "execution_count": null,
   "id": "d0300b88",
   "metadata": {},
   "outputs": [],
   "source": []
  }
 ],
 "metadata": {
  "kernelspec": {
   "display_name": "Python 3",
   "language": "python",
   "name": "python3"
  },
  "language_info": {
   "codemirror_mode": {
    "name": "ipython",
    "version": 3
   },
   "file_extension": ".py",
   "mimetype": "text/x-python",
   "name": "python",
   "nbconvert_exporter": "python",
   "pygments_lexer": "ipython3",
   "version": "3.8.8"
  }
 },
 "nbformat": 4,
 "nbformat_minor": 5
}
