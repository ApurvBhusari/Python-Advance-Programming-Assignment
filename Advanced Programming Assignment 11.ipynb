{
 "cells": [
  {
   "cell_type": "code",
   "execution_count": 1,
   "id": "d42f57f1",
   "metadata": {},
   "outputs": [
    {
     "name": "stdout",
     "output_type": "stream",
     "text": [
      "Enter number of elements : 5\n",
      "my\n",
      "name\n",
      "is\n",
      "apurva\n",
      "bhusari\n",
      "Enter the length :4\n",
      "['apurva', 'bhusari']\n"
     ]
    }
   ],
   "source": [
    "#1. Write a Python program to find words which are greater than given length k?\n",
    "n = int(input(\"Enter number of elements : \"))\n",
    "lst=[]\n",
    "for i in range(0, n):\n",
    "    elements = input()\n",
    "    lst.append(elements)\n",
    "\n",
    "k=int(input(\"Enter the length :\"))\n",
    "l=[]\n",
    "for i in lst:\n",
    "    if len(i)>k:\n",
    "        l.append(i)\n",
    "print(l)        \n",
    "        \n",
    "            \n",
    "        \n",
    "\n"
   ]
  },
  {
   "cell_type": "code",
   "execution_count": 7,
   "id": "9ffca590",
   "metadata": {},
   "outputs": [
    {
     "name": "stdout",
     "output_type": "stream",
     "text": [
      "enter your string my name is apurva\n",
      "enter your ith character index 6\n",
      "my nam is apurva\n"
     ]
    }
   ],
   "source": [
    "#2. Write a Python program for removing i-th character from a string?\n",
    "string=input(\"enter your string \")\n",
    "i=int(input(\"enter your ith character index \"))\n",
    "for j in range(len(string)):\n",
    "    if j == i:\n",
    "        string = string.replace(string[i], \"\", 1)\n",
    "print(string)\n",
    "\n",
    "    \n",
    "      \n",
    "\n",
    "    \n"
   ]
  },
  {
   "cell_type": "code",
   "execution_count": 4,
   "id": "20bdbe2f",
   "metadata": {},
   "outputs": [
    {
     "name": "stdout",
     "output_type": "stream",
     "text": [
      "enter your stringmy name is ineuron\n",
      "After Splitting:  ['my', 'name', 'is', 'ineuron']\n",
      "After joining:  my-name-is-ineuron\n"
     ]
    }
   ],
   "source": [
    "#3. Write a Python program to split and join a string?\n",
    "string = input(\"enter your string\")\n",
    "list_string = string.split(' ')\n",
    "string = '-'.join(list_string)\n",
    "print(\"After Splitting: \",list_string)\n",
    "print(\"After joining: \",string)\n"
   ]
  },
  {
   "cell_type": "code",
   "execution_count": null,
   "id": "3c08d535",
   "metadata": {},
   "outputs": [],
   "source": [
    "#4. Write a Python to check if a given string is binary string or not?\n",
    "n = '011010101011'\n",
    "m = {'0','1'}\n",
    "l= set(n)\n",
    "\n",
    "if m == l or l == {'0'} or l == {'1'}:\n",
    "    print(\"our string is a binary string.\")\n",
    "else:\n",
    "    print(\"our string is not a binary string\")\n",
    "    \n",
    "\n",
    "\n"
   ]
  },
  {
   "cell_type": "code",
   "execution_count": null,
   "id": "9773c746",
   "metadata": {},
   "outputs": [],
   "source": [
    "#5. Write a Python program to find uncommon words from two Strings?\n",
    "n=\"my name is fullstack\"\n",
    "m=\"my name is ineuron\"\n",
    "a=n.split()\n",
    "b=m.split()\n",
    "l=[]\n",
    "for i in a:\n",
    "    if i not in b:\n",
    "        l.append(i)\n",
    "for j in b:\n",
    "    if j not in a:\n",
    "        l.append(j)\n",
    "print(l)        \n",
    "    \n",
    "\n",
    "\n",
    "    \n",
    "    \n",
    "\n",
    "\n"
   ]
  },
  {
   "cell_type": "code",
   "execution_count": null,
   "id": "d0fc16cd",
   "metadata": {},
   "outputs": [],
   "source": [
    "#6. Write a Python to find all duplicate characters in string?\n",
    "n=input(\"enter the string \")\n",
    "l=[]\n",
    "for i in n:\n",
    "    if n.count(i)>1:\n",
    "        if i not in l:\n",
    "            if i!=\" \":\n",
    "                l.append(i)\n",
    "print(l)        \n",
    "    \n",
    "    \n",
    "    \n",
    "   \n",
    "        \n",
    "        \n",
    "        \n",
    "    \n",
    "\n",
    "\n"
   ]
  },
  {
   "cell_type": "code",
   "execution_count": null,
   "id": "fbcab3f5",
   "metadata": {},
   "outputs": [],
   "source": [
    "#7. Write a Python Program to check if a string contains any special character?\n",
    "\n",
    "import re\n",
    "string = input('Enter any string: ')\n",
    "special_char = re.compile('[@_!#$%^&*()<>?/\\|}{~:]')\n",
    "if(special_char.search(string) == None):\n",
    "    print('String does not contain any special characters.')\n",
    "else:\n",
    "    print('The string contains special characters.')\n"
   ]
  },
  {
   "cell_type": "code",
   "execution_count": null,
   "id": "c9ccc073",
   "metadata": {},
   "outputs": [],
   "source": []
  }
 ],
 "metadata": {
  "kernelspec": {
   "display_name": "Python 3",
   "language": "python",
   "name": "python3"
  },
  "language_info": {
   "codemirror_mode": {
    "name": "ipython",
    "version": 3
   },
   "file_extension": ".py",
   "mimetype": "text/x-python",
   "name": "python",
   "nbconvert_exporter": "python",
   "pygments_lexer": "ipython3",
   "version": "3.8.8"
  }
 },
 "nbformat": 4,
 "nbformat_minor": 5
}
