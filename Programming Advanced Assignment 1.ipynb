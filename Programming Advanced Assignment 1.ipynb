{
 "cells": [
  {
   "cell_type": "code",
   "execution_count": 39,
   "id": "86ceef37",
   "metadata": {},
   "outputs": [],
   "source": [
    "#1. Write a function that takes a list of lists and returns the value of all of the symbols in it, where each symbol adds or takes something from the totalscore. Symbol values:\n",
    "def check_score(n):\n",
    "    v= {'#':5,\"O\":3,\"X\":1,\"!\":-1,\"!!\":-3,\"!!!\":-5}\n",
    "    a=0\n",
    "    for i in n:\n",
    "        for j in i:\n",
    "            if j in v:\n",
    "                a+=v[j]\n",
    "    if a>=0:\n",
    "        return a            \n",
    "    if a<0:\n",
    "        return 0\n",
    "                \n",
    "            \n",
    "            \n",
    "            \n",
    "    \n",
    "                \n",
    "                \n",
    "                \n",
    "                \n",
    "                \n",
    "                \n",
    "    \n",
    "    \n",
    "    "
   ]
  },
  {
   "cell_type": "code",
   "execution_count": null,
   "id": "2ac88533",
   "metadata": {},
   "outputs": [],
   "source": [
    "#2. Create a function that takes a variable number of arguments, each argument representing the number of items in a group, and returns thenumber of permutations (combinations) of items that you could get by takingone itemfrom each group.\n",
    "def perm(*args):\n",
    "    s=1\n",
    "    for i in args:\n",
    "        s=s*i\n",
    "    return s    \n"
   ]
  },
  {
   "cell_type": "code",
   "execution_count": 19,
   "id": "83b74b26",
   "metadata": {},
   "outputs": [],
   "source": [
    "#Create a function that takes a string as an argument and returns the Morse code equivalent.\n",
    "def code(n):\n",
    "    \n",
    "    \n",
    "    v={\n",
    "         'A': '.-', 'B': '-...', 'C': '-.-.', 'D': '-..', 'E': '.', 'F': '..-.',\n",
    "         'G': '--.', 'H': '....', 'I': '..', 'J': '.---', 'K': '-.-', 'L': '.-..',\n",
    "         'M': '--', 'N': '-.', 'O': '---', 'P': '.--.', 'Q': '--.-', 'R': '.-.',\n",
    "         'S': '...', 'T': '-', 'U': '..-', 'V': '...-', 'W': '.--', 'X': '-..-',\n",
    "         'Y': '-.--', 'Z': '--..', ' ': ' ', '0': '-----',\n",
    "         '1': '.----', '2': '..---', '3': '...--', '4': '....-', '5': '.....',\n",
    "         '6': '-....', '7': '--...', '8': '---..', '9': '----.',\n",
    "         '&': '.-...', \"'\": '.----.', '@': '.--.-.', ')': '-.--.-', '(': '-.--.',\n",
    "         ':': '---...', ',': '--..--', '=': '-...-', '!': '-.-.--', '.': '.-.-.-',\n",
    "         '-': '-....-', '+': '.-.-.', '\"': '.-..-.', '?': '..--..', '/': '-..-.'\n",
    "      }\n",
    "    c=[]\n",
    "    for i in n:\n",
    "        if i in v:\n",
    "            c.append(v.get(i))\n",
    "            \n",
    "    return \"\".join(c)        \n",
    "\n"
   ]
  },
  {
   "cell_type": "code",
   "execution_count": 26,
   "id": "ed472a3a",
   "metadata": {},
   "outputs": [
    {
     "data": {
      "text/plain": [
       "{'b': '$'}"
      ]
     },
     "execution_count": 26,
     "metadata": {},
     "output_type": "execute_result"
    }
   ],
   "source": [
    "a={\"a\":'@',\"b\":'$'}\n",
    "a.pop(\"a\")\n",
    "a"
   ]
  },
  {
   "cell_type": "code",
   "execution_count": 22,
   "id": "54004d71",
   "metadata": {},
   "outputs": [
    {
     "data": {
      "text/plain": [
       "'.-...--...-.....- -.-......-.-...-...-.--..'"
      ]
     },
     "execution_count": 22,
     "metadata": {},
     "output_type": "execute_result"
    }
   ],
   "source": [
    "code(\"EDABBIT CHALLENGE\")"
   ]
  },
  {
   "cell_type": "code",
   "execution_count": 40,
   "id": "9b4de222",
   "metadata": {},
   "outputs": [],
   "source": [
    "#Write a function that takes a number and returns True if it&#39;s a prime; False otherwise. The number can be 2^64-1 (2 to the power of 63, not XOR). Withthe standard technique it would be O(2^64-1), which is much too large for the10 second time limit.\n",
    "def prime(a):\n",
    "\n",
    "    #a = 5151512515524\n",
    "    l1 = []\n",
    "    for i in range(1, a+1):\n",
    "        if (a%i) == 0:\n",
    "            l1.append(i)\n",
    "            if len(l1)>4:\n",
    "                break\n",
    "    if len(l1)>2:\n",
    "        print(False)\n",
    "    else:\n",
    "        print(True)    "
   ]
  },
  {
   "cell_type": "code",
   "execution_count": 36,
   "id": "627f9112",
   "metadata": {},
   "outputs": [],
   "source": [
    "#Create a function that converts a word to a bitstring and then to a boolean list based on the following criteria:\n",
    "import string \n",
    "def bit(n):\n",
    "    c=[]\n",
    "    for i in string.ascii_lowercase:\n",
    "        c.append(i)\n",
    "    z={}\n",
    "    for i in range(len(c)):\n",
    "        z[c[i]]=i+1\n",
    "    f=[]    \n",
    "    for i in n:\n",
    "        if z[i]%2==0:\n",
    "            f.append(False)\n",
    "        else :\n",
    "            f.append(True)\n",
    "    return f        \n",
    "        \n",
    "    \n",
    "            \n",
    "   \n",
    "        \n",
    "        \n",
    "\n",
    "\n"
   ]
  },
  {
   "cell_type": "code",
   "execution_count": 39,
   "id": "ec9b15bf",
   "metadata": {},
   "outputs": [
    {
     "data": {
      "text/plain": [
       "[False, True, True, False]"
      ]
     },
     "execution_count": 39,
     "metadata": {},
     "output_type": "execute_result"
    }
   ],
   "source": [
    "bit(\"tesh\")"
   ]
  },
  {
   "cell_type": "code",
   "execution_count": null,
   "id": "e7ebe062",
   "metadata": {},
   "outputs": [],
   "source": []
  }
 ],
 "metadata": {
  "kernelspec": {
   "display_name": "Python 3",
   "language": "python",
   "name": "python3"
  },
  "language_info": {
   "codemirror_mode": {
    "name": "ipython",
    "version": 3
   },
   "file_extension": ".py",
   "mimetype": "text/x-python",
   "name": "python",
   "nbconvert_exporter": "python",
   "pygments_lexer": "ipython3",
   "version": "3.8.8"
  }
 },
 "nbformat": 4,
 "nbformat_minor": 5
}
